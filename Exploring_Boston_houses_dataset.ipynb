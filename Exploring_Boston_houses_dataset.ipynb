{
  "nbformat": 4,
  "nbformat_minor": 0,
  "metadata": {
    "colab": {
      "name": "Assignment3.ipynb",
      "provenance": [],
      "collapsed_sections": [],
      "toc_visible": true,
      "authorship_tag": "ABX9TyO9+WePZxGBiFtLFk2GgYJG",
      "include_colab_link": true
    },
    "kernelspec": {
      "name": "python3",
      "display_name": "Python 3"
    }
  },
  "cells": [
    {
      "cell_type": "markdown",
      "metadata": {
        "id": "view-in-github",
        "colab_type": "text"
      },
      "source": [
        "<a href=\"https://colab.research.google.com/github/Sreeja-coder/DeepLearning/blob/main/Exploring_Boston_houses_dataset.ipynb\" target=\"_parent\"><img src=\"https://colab.research.google.com/assets/colab-badge.svg\" alt=\"Open In Colab\"/></a>"
      ]
    },
    {
      "cell_type": "code",
      "metadata": {
        "id": "ihSKGDV3oRDE"
      },
      "source": [
        "from sklearn.datasets import make_classification\r\n",
        "from sklearn.model_selection import train_test_split\r\n",
        "from sklearn.neural_network import MLPClassifier\r\n",
        "from sklearn.model_selection import GridSearchCV\r\n",
        "from sklearn.metrics import f1_score\r\n",
        "from sklearn.metrics import mean_squared_error\r\n",
        "from scipy.stats import randint\r\n",
        "from sklearn.model_selection import RandomizedSearchCV\r\n",
        "from tensorflow import keras\r\n",
        "import pandas as pd\r\n",
        "import seaborn as sns \r\n",
        "import numpy as np\r\n",
        "import matplotlib.pyplot as plt \r\n",
        "from sklearn.neighbors import KNeighborsRegressor\r\n",
        "from sklearn.ensemble import RandomForestRegressor\r\n",
        "from sklearn.tree import DecisionTreeRegressor\r\n",
        "import xgboost as xgb\r\n",
        "from sklearn.svm import SVR\r\n",
        "from tensorflow.keras import models\r\n",
        "from tensorflow.keras import layers\r\n",
        "from tensorflow.keras import optimizers\r\n",
        "from tensorflow.keras.wrappers.scikit_learn import KerasClassifier\r\n",
        "import warnings\r\n",
        "warnings.filterwarnings(\"ignore\")"
      ],
      "execution_count": 2,
      "outputs": []
    },
    {
      "cell_type": "markdown",
      "metadata": {
        "id": "3-0u6n1l4Ci-"
      },
      "source": [
        "## **Question 1**"
      ]
    },
    {
      "cell_type": "code",
      "metadata": {
        "id": "V59o3pR7vGGJ"
      },
      "source": [
        "X,y = make_classification(n_samples=500,n_classes=2,n_features=20,n_informative=10)\r\n",
        "# here we are creating 500 samples (n_samples) with two output labels (n_classes) , each row/datapoint will have 20 features in total out of which 10 are important informative the rest would be redundant + duplicates(picked randomly from redundant and informative)"
      ],
      "execution_count": null,
      "outputs": []
    },
    {
      "cell_type": "code",
      "metadata": {
        "colab": {
          "base_uri": "https://localhost:8080/"
        },
        "id": "lmmpd_CL9F76",
        "outputId": "3e079cdf-0f65-4b77-bae9-7cfa5f7b9dde"
      },
      "source": [
        "type(y)"
      ],
      "execution_count": null,
      "outputs": [
        {
          "output_type": "execute_result",
          "data": {
            "text/plain": [
              "numpy.ndarray"
            ]
          },
          "metadata": {
            "tags": []
          },
          "execution_count": 13
        }
      ]
    },
    {
      "cell_type": "code",
      "metadata": {
        "id": "ykpxXqFLzuhv"
      },
      "source": [
        "X_train, X_test, y_train, y_test = train_test_split(X, y, test_size=0.20, random_state=42, stratify=y)"
      ],
      "execution_count": null,
      "outputs": []
    },
    {
      "cell_type": "code",
      "metadata": {
        "id": "KoeNwnmWzvO4"
      },
      "source": [
        "mlp = MLPClassifier(random_state=1, max_iter=100).fit(X_train, y_train)"
      ],
      "execution_count": null,
      "outputs": []
    },
    {
      "cell_type": "code",
      "metadata": {
        "id": "DNl_ZXO-319X"
      },
      "source": [
        "# define a parametere space for the tuning and then use that with GridSearchCV to search in it for a good estimator\r\n",
        "parameter_space = {\r\n",
        "'hidden_layer_sizes': [(10,50),(150,250)],\r\n",
        "'activation': ['tanh', 'relu'],\r\n",
        "'solver': ['sgd', 'adam'],\r\n",
        "'alpha': [0.0001, 0.05],\r\n",
        "'learning_rate': ['constant','adaptive'],\r\n",
        "}"
      ],
      "execution_count": null,
      "outputs": []
    },
    {
      "cell_type": "code",
      "metadata": {
        "id": "POqgejg1Fw1N"
      },
      "source": [
        "classifier = GridSearchCV(mlp, parameter_space, n_jobs=-1, cv=5)\r\n",
        "# here we are using the sklearn's GridSearch with mlp classifier and parameter space defined above. Also n_jobs = -1 means use all the cores available and cv=5 is for number of splits for cross validation"
      ],
      "execution_count": null,
      "outputs": []
    },
    {
      "cell_type": "code",
      "metadata": {
        "colab": {
          "base_uri": "https://localhost:8080/"
        },
        "id": "EqrELJv4GhcE",
        "outputId": "3bfc25df-0751-4e74-e3a4-9d1d3af161da"
      },
      "source": [
        "classifier.fit(X_train,y_train)"
      ],
      "execution_count": null,
      "outputs": [
        {
          "output_type": "execute_result",
          "data": {
            "text/plain": [
              "GridSearchCV(cv=5, error_score=nan,\n",
              "             estimator=MLPClassifier(activation='relu', alpha=0.0001,\n",
              "                                     batch_size='auto', beta_1=0.9,\n",
              "                                     beta_2=0.999, early_stopping=False,\n",
              "                                     epsilon=1e-08, hidden_layer_sizes=(100,),\n",
              "                                     learning_rate='constant',\n",
              "                                     learning_rate_init=0.001, max_fun=15000,\n",
              "                                     max_iter=100, momentum=0.9,\n",
              "                                     n_iter_no_change=10,\n",
              "                                     nesterovs_momentum=True, power_t=0.5,\n",
              "                                     random_state...\n",
              "                                     solver='adam', tol=0.0001,\n",
              "                                     validation_fraction=0.1, verbose=False,\n",
              "                                     warm_start=False),\n",
              "             iid='deprecated', n_jobs=-1,\n",
              "             param_grid={'activation': ['tanh', 'relu'],\n",
              "                         'alpha': [0.0001, 0.05],\n",
              "                         'hidden_layer_sizes': [(10, 50), (150, 250)],\n",
              "                         'learning_rate': ['constant', 'adaptive'],\n",
              "                         'solver': ['sgd', 'adam']},\n",
              "             pre_dispatch='2*n_jobs', refit=True, return_train_score=False,\n",
              "             scoring=None, verbose=0)"
            ]
          },
          "metadata": {
            "tags": []
          },
          "execution_count": 18
        }
      ]
    },
    {
      "cell_type": "code",
      "metadata": {
        "colab": {
          "base_uri": "https://localhost:8080/"
        },
        "id": "EXJfTccvG3tD",
        "outputId": "897c3332-4698-4029-e2b5-0750bb372160"
      },
      "source": [
        "classifier.best_params_"
      ],
      "execution_count": null,
      "outputs": [
        {
          "output_type": "execute_result",
          "data": {
            "text/plain": [
              "{'activation': 'relu',\n",
              " 'alpha': 0.0001,\n",
              " 'hidden_layer_sizes': (150, 250),\n",
              " 'learning_rate': 'constant',\n",
              " 'solver': 'adam'}"
            ]
          },
          "metadata": {
            "tags": []
          },
          "execution_count": 19
        }
      ]
    },
    {
      "cell_type": "code",
      "metadata": {
        "id": "58GyfjfKHaFj"
      },
      "source": [
        "y_test_predictions = classifier.predict(X_test)"
      ],
      "execution_count": null,
      "outputs": []
    },
    {
      "cell_type": "code",
      "metadata": {
        "colab": {
          "base_uri": "https://localhost:8080/"
        },
        "id": "u2nZfFzVH84T",
        "outputId": "b29d69f7-ff08-46a0-dd70-e35ae79340e9"
      },
      "source": [
        "f1_score(y_test,y_test_predictions)*100"
      ],
      "execution_count": null,
      "outputs": [
        {
          "output_type": "execute_result",
          "data": {
            "text/plain": [
              "92.78350515463917"
            ]
          },
          "metadata": {
            "tags": []
          },
          "execution_count": 21
        }
      ]
    },
    {
      "cell_type": "markdown",
      "metadata": {
        "id": "nfXUkD-0I3J7"
      },
      "source": [
        "## **Question 2**"
      ]
    },
    {
      "cell_type": "code",
      "metadata": {
        "id": "T1poenJhI2lD"
      },
      "source": [
        "# quesyion 2.1\r\n",
        "boston_data = pd.read_csv('/content/boston_house.csv')\r\n"
      ],
      "execution_count": null,
      "outputs": []
    },
    {
      "cell_type": "code",
      "metadata": {
        "colab": {
          "base_uri": "https://localhost:8080/"
        },
        "id": "mF2u_09FpNHw",
        "outputId": "9a49e196-c7b7-4f9d-b1fb-29b53fae32d8"
      },
      "source": [
        "# question 2.1\r\n",
        "boston_data.shape"
      ],
      "execution_count": null,
      "outputs": [
        {
          "output_type": "execute_result",
          "data": {
            "text/plain": [
              "(506, 14)"
            ]
          },
          "metadata": {
            "tags": []
          },
          "execution_count": 11
        }
      ]
    },
    {
      "cell_type": "code",
      "metadata": {
        "colab": {
          "base_uri": "https://localhost:8080/"
        },
        "id": "kCcPVZjBpy0-",
        "outputId": "fae5dadf-e0e2-4bad-e327-a5a7e3041426"
      },
      "source": [
        "boston_data.columns"
      ],
      "execution_count": null,
      "outputs": [
        {
          "output_type": "execute_result",
          "data": {
            "text/plain": [
              "Index(['crim', 'zn', 'indus', 'chas', 'nox', 'rm', 'age', 'dis', 'rad', 'tax',\n",
              "       'ptratio', 'b', 'lstat', 'medv'],\n",
              "      dtype='object')"
            ]
          },
          "metadata": {
            "tags": []
          },
          "execution_count": 12
        }
      ]
    },
    {
      "cell_type": "code",
      "metadata": {
        "colab": {
          "base_uri": "https://localhost:8080/",
          "height": 204
        },
        "id": "NhcfALMntxH1",
        "outputId": "a2a122a8-5b7f-4ca1-8815-207c22ccb3da"
      },
      "source": [
        "boston_data.head()"
      ],
      "execution_count": null,
      "outputs": [
        {
          "output_type": "execute_result",
          "data": {
            "text/html": [
              "<div>\n",
              "<style scoped>\n",
              "    .dataframe tbody tr th:only-of-type {\n",
              "        vertical-align: middle;\n",
              "    }\n",
              "\n",
              "    .dataframe tbody tr th {\n",
              "        vertical-align: top;\n",
              "    }\n",
              "\n",
              "    .dataframe thead th {\n",
              "        text-align: right;\n",
              "    }\n",
              "</style>\n",
              "<table border=\"1\" class=\"dataframe\">\n",
              "  <thead>\n",
              "    <tr style=\"text-align: right;\">\n",
              "      <th></th>\n",
              "      <th>crim</th>\n",
              "      <th>zn</th>\n",
              "      <th>indus</th>\n",
              "      <th>chas</th>\n",
              "      <th>nox</th>\n",
              "      <th>rm</th>\n",
              "      <th>age</th>\n",
              "      <th>dis</th>\n",
              "      <th>rad</th>\n",
              "      <th>tax</th>\n",
              "      <th>ptratio</th>\n",
              "      <th>b</th>\n",
              "      <th>lstat</th>\n",
              "      <th>medv</th>\n",
              "    </tr>\n",
              "  </thead>\n",
              "  <tbody>\n",
              "    <tr>\n",
              "      <th>0</th>\n",
              "      <td>0.00632</td>\n",
              "      <td>18.0</td>\n",
              "      <td>2.31</td>\n",
              "      <td>0</td>\n",
              "      <td>0.538</td>\n",
              "      <td>6.575</td>\n",
              "      <td>65.2</td>\n",
              "      <td>4.0900</td>\n",
              "      <td>1</td>\n",
              "      <td>296</td>\n",
              "      <td>15.3</td>\n",
              "      <td>396.90</td>\n",
              "      <td>4.98</td>\n",
              "      <td>24.0</td>\n",
              "    </tr>\n",
              "    <tr>\n",
              "      <th>1</th>\n",
              "      <td>0.02731</td>\n",
              "      <td>0.0</td>\n",
              "      <td>7.07</td>\n",
              "      <td>0</td>\n",
              "      <td>0.469</td>\n",
              "      <td>6.421</td>\n",
              "      <td>78.9</td>\n",
              "      <td>4.9671</td>\n",
              "      <td>2</td>\n",
              "      <td>242</td>\n",
              "      <td>17.8</td>\n",
              "      <td>396.90</td>\n",
              "      <td>9.14</td>\n",
              "      <td>21.6</td>\n",
              "    </tr>\n",
              "    <tr>\n",
              "      <th>2</th>\n",
              "      <td>0.02729</td>\n",
              "      <td>0.0</td>\n",
              "      <td>7.07</td>\n",
              "      <td>0</td>\n",
              "      <td>0.469</td>\n",
              "      <td>7.185</td>\n",
              "      <td>61.1</td>\n",
              "      <td>4.9671</td>\n",
              "      <td>2</td>\n",
              "      <td>242</td>\n",
              "      <td>17.8</td>\n",
              "      <td>392.83</td>\n",
              "      <td>4.03</td>\n",
              "      <td>34.7</td>\n",
              "    </tr>\n",
              "    <tr>\n",
              "      <th>3</th>\n",
              "      <td>0.03237</td>\n",
              "      <td>0.0</td>\n",
              "      <td>2.18</td>\n",
              "      <td>0</td>\n",
              "      <td>0.458</td>\n",
              "      <td>6.998</td>\n",
              "      <td>45.8</td>\n",
              "      <td>6.0622</td>\n",
              "      <td>3</td>\n",
              "      <td>222</td>\n",
              "      <td>18.7</td>\n",
              "      <td>394.63</td>\n",
              "      <td>2.94</td>\n",
              "      <td>33.4</td>\n",
              "    </tr>\n",
              "    <tr>\n",
              "      <th>4</th>\n",
              "      <td>0.06905</td>\n",
              "      <td>0.0</td>\n",
              "      <td>2.18</td>\n",
              "      <td>0</td>\n",
              "      <td>0.458</td>\n",
              "      <td>7.147</td>\n",
              "      <td>54.2</td>\n",
              "      <td>6.0622</td>\n",
              "      <td>3</td>\n",
              "      <td>222</td>\n",
              "      <td>18.7</td>\n",
              "      <td>396.90</td>\n",
              "      <td>5.33</td>\n",
              "      <td>36.2</td>\n",
              "    </tr>\n",
              "  </tbody>\n",
              "</table>\n",
              "</div>"
            ],
            "text/plain": [
              "      crim    zn  indus  chas    nox  ...  tax  ptratio       b  lstat  medv\n",
              "0  0.00632  18.0   2.31     0  0.538  ...  296     15.3  396.90   4.98  24.0\n",
              "1  0.02731   0.0   7.07     0  0.469  ...  242     17.8  396.90   9.14  21.6\n",
              "2  0.02729   0.0   7.07     0  0.469  ...  242     17.8  392.83   4.03  34.7\n",
              "3  0.03237   0.0   2.18     0  0.458  ...  222     18.7  394.63   2.94  33.4\n",
              "4  0.06905   0.0   2.18     0  0.458  ...  222     18.7  396.90   5.33  36.2\n",
              "\n",
              "[5 rows x 14 columns]"
            ]
          },
          "metadata": {
            "tags": []
          },
          "execution_count": 13
        }
      ]
    },
    {
      "cell_type": "code",
      "metadata": {
        "colab": {
          "base_uri": "https://localhost:8080/",
          "height": 402
        },
        "id": "LNrtx1dZqGV9",
        "outputId": "bb800df8-2fb6-434d-9b34-dedfc402fefd"
      },
      "source": [
        "# question 2.2\r\n",
        "# I dont see any categorical data\r\n",
        "boston_data.select_dtypes(include=['category'])"
      ],
      "execution_count": null,
      "outputs": [
        {
          "output_type": "execute_result",
          "data": {
            "text/html": [
              "<div>\n",
              "<style scoped>\n",
              "    .dataframe tbody tr th:only-of-type {\n",
              "        vertical-align: middle;\n",
              "    }\n",
              "\n",
              "    .dataframe tbody tr th {\n",
              "        vertical-align: top;\n",
              "    }\n",
              "\n",
              "    .dataframe thead th {\n",
              "        text-align: right;\n",
              "    }\n",
              "</style>\n",
              "<table border=\"1\" class=\"dataframe\">\n",
              "  <thead>\n",
              "    <tr style=\"text-align: right;\">\n",
              "      <th></th>\n",
              "    </tr>\n",
              "  </thead>\n",
              "  <tbody>\n",
              "    <tr>\n",
              "      <th>0</th>\n",
              "    </tr>\n",
              "    <tr>\n",
              "      <th>1</th>\n",
              "    </tr>\n",
              "    <tr>\n",
              "      <th>2</th>\n",
              "    </tr>\n",
              "    <tr>\n",
              "      <th>3</th>\n",
              "    </tr>\n",
              "    <tr>\n",
              "      <th>4</th>\n",
              "    </tr>\n",
              "    <tr>\n",
              "      <th>...</th>\n",
              "    </tr>\n",
              "    <tr>\n",
              "      <th>501</th>\n",
              "    </tr>\n",
              "    <tr>\n",
              "      <th>502</th>\n",
              "    </tr>\n",
              "    <tr>\n",
              "      <th>503</th>\n",
              "    </tr>\n",
              "    <tr>\n",
              "      <th>504</th>\n",
              "    </tr>\n",
              "    <tr>\n",
              "      <th>505</th>\n",
              "    </tr>\n",
              "  </tbody>\n",
              "</table>\n",
              "<p>506 rows × 0 columns</p>\n",
              "</div>"
            ],
            "text/plain": [
              "Empty DataFrame\n",
              "Columns: []\n",
              "Index: [0, 1, 2, 3, 4, 5, 6, 7, 8, 9, 10, 11, 12, 13, 14, 15, 16, 17, 18, 19, 20, 21, 22, 23, 24, 25, 26, 27, 28, 29, 30, 31, 32, 33, 34, 35, 36, 37, 38, 39, 40, 41, 42, 43, 44, 45, 46, 47, 48, 49, 50, 51, 52, 53, 54, 55, 56, 57, 58, 59, 60, 61, 62, 63, 64, 65, 66, 67, 68, 69, 70, 71, 72, 73, 74, 75, 76, 77, 78, 79, 80, 81, 82, 83, 84, 85, 86, 87, 88, 89, 90, 91, 92, 93, 94, 95, 96, 97, 98, 99, ...]\n",
              "\n",
              "[506 rows x 0 columns]"
            ]
          },
          "metadata": {
            "tags": []
          },
          "execution_count": 14
        }
      ]
    },
    {
      "cell_type": "code",
      "metadata": {
        "colab": {
          "base_uri": "https://localhost:8080/"
        },
        "id": "IgJRWlWdqQGe",
        "outputId": "7e26b0e0-6606-4c12-9669-db033b5fd18c"
      },
      "source": [
        "# question 2.3\r\n",
        "# we are checking for null values in the boston dataset . isnull() returns a series of \"True\" if there is a null value and \"False\" if there is no null value \r\n",
        "# then we apply sum() to the series returned from the isnull() . This will help us get the total number of null values in each column if any.\r\n",
        "boston_data.isnull().sum()"
      ],
      "execution_count": null,
      "outputs": [
        {
          "output_type": "execute_result",
          "data": {
            "text/plain": [
              "crim       0\n",
              "zn         0\n",
              "indus      0\n",
              "chas       0\n",
              "nox        0\n",
              "rm         0\n",
              "age        0\n",
              "dis        0\n",
              "rad        0\n",
              "tax        0\n",
              "ptratio    0\n",
              "b          0\n",
              "lstat      0\n",
              "medv       0\n",
              "dtype: int64"
            ]
          },
          "metadata": {
            "tags": []
          },
          "execution_count": 15
        }
      ]
    },
    {
      "cell_type": "code",
      "metadata": {
        "colab": {
          "base_uri": "https://localhost:8080/",
          "height": 517
        },
        "id": "Dk8d5M4ywnL9",
        "outputId": "059ab582-692b-474a-c9e3-9336f877fba3"
      },
      "source": [
        "\r\n",
        "sns.set(rc={'figure.figsize':(11.7,8.27)})\r\n",
        "sns.distplot(boston_data['medv'], bins=30)\r\n",
        "plt.show()"
      ],
      "execution_count": null,
      "outputs": [
        {
          "output_type": "display_data",
          "data": {
            "image/png": "[encoded data removed]",
            "text/plain": [
              "<Figure size 842.4x595.44 with 1 Axes>"
            ]
          },
          "metadata": {
            "tags": []
          }
        }
      ]
    },
    {
      "cell_type": "markdown",
      "metadata": {
        "id": "LOXK3VHQsdKX"
      },
      "source": [
        "the objective is to predict the prices of the houses based on the features <br>.\r\n",
        "The prices are stored in the MEDV column<br>\r\n",
        "so lets see the distribution of the target variable<br>\r\n",
        "the distplot helps us to see the distribution of the target variable , it is a normal distribution with few outliers like bin 50 "
      ]
    },
    {
      "cell_type": "code",
      "metadata": {
        "id": "fDHzc5fu7mH0"
      },
      "source": [
        "features = ['crim','zn','indus','chas','nox','rm','age','dis','rad','tax','ptratio','b','lstat']"
      ],
      "execution_count": null,
      "outputs": []
    },
    {
      "cell_type": "code",
      "metadata": {
        "id": "_aqGBfo18yBK"
      },
      "source": [
        "X= boston_data[features]\r\n",
        "y = np.array(boston_data['medv'])"
      ],
      "execution_count": null,
      "outputs": []
    },
    {
      "cell_type": "code",
      "metadata": {
        "id": "JyxWPhtP57Js"
      },
      "source": [
        "X_train, X_test, y_train, y_test = train_test_split(X, y, test_size=0.20, random_state=42)"
      ],
      "execution_count": null,
      "outputs": []
    },
    {
      "cell_type": "code",
      "metadata": {
        "colab": {
          "base_uri": "https://localhost:8080/",
          "height": 521
        },
        "id": "B9G4DlNRphpO",
        "outputId": "5413467d-ace4-438d-ef35-b6def2f45346"
      },
      "source": [
        "# now we will build correlation matrix, it will show how all the variables correlates with the target \"medv\"\r\n",
        "correlation_matrix = boston_data.corr().round(2)\r\n",
        "# annot = True to print the values inside the square\r\n",
        "sns.heatmap(data=correlation_matrix, annot=True)\r\n"
      ],
      "execution_count": null,
      "outputs": [
        {
          "output_type": "execute_result",
          "data": {
            "text/plain": [
              "<matplotlib.axes._subplots.AxesSubplot at 0x7fa692de9610>"
            ]
          },
          "metadata": {
            "tags": []
          },
          "execution_count": 20
        },
        {
          "output_type": "display_data",
          "data": {
            "image/png": "[encoded data removed]",
            "text/plain": [
              "<Figure size 842.4x595.44 with 2 Axes>"
            ]
          },
          "metadata": {
            "tags": []
          }
        }
      ]
    },
    {
      "cell_type": "markdown",
      "metadata": {
        "id": "nuSQLHm9sOv4"
      },
      "source": [
        "here we can see that variables \"rm\" has a postivie correlation with \"medv\"<br>\r\n",
        "also variable \"lstat\" has negative correlation with \"medv\""
      ]
    },
    {
      "cell_type": "markdown",
      "metadata": {
        "id": "vKdYrt0278ra"
      },
      "source": [
        "--------------------------------------------------------------------------------------------"
      ]
    },
    {
      "cell_type": "markdown",
      "metadata": {
        "id": "b1d9ACYm719p"
      },
      "source": [
        "so we define regressors <br>"
      ]
    },
    {
      "cell_type": "code",
      "metadata": {
        "id": "304lEjdl7V9j"
      },
      "source": [
        "svm_model = SVR()\r\n",
        "xgb_model = xgb.XGBRegressor(objective ='reg:squarederror')\r\n",
        "knn_model = KNeighborsRegressor()\r\n",
        "randf_model =  RandomForestRegressor()\r\n",
        "decisionT_model = DecisionTreeRegressor()  "
      ],
      "execution_count": null,
      "outputs": []
    },
    {
      "cell_type": "markdown",
      "metadata": {
        "id": "ubwAT_rp8Jgp"
      },
      "source": [
        "we have to fine tune atleast two parameters for each regressors so we define that as follows\r\n"
      ]
    },
    {
      "cell_type": "markdown",
      "metadata": {
        "id": "Sg4Tmld58iOB"
      },
      "source": [
        "import sklearn <br>\r\n",
        "sorted(sklearn.metrics.SCORERS.keys()) <br>\r\n",
        "helps us to find the scoring we have to use <br>\r\n",
        "the scoring will be used to select the best model"
      ]
    },
    {
      "cell_type": "code",
      "metadata": {
        "id": "mvQAtBllwo8y"
      },
      "source": [
        "rf_param = {\r\n",
        "    'n_estimators': randint(4,200),\r\n",
        "    'max_depth' : [10,20,None]\r\n",
        "}\r\n",
        "knn_param={\r\n",
        "    'n_neighbors': [5,10,2],\r\n",
        "    'metric' :['euclidean','manhattan','chebyshev','minkowski']\r\n",
        "}\r\n",
        "dt_param ={\r\n",
        "    'max_depth':[10,4,20,50],\r\n",
        "    'min_samples_split':[3,5,2]\r\n",
        "}\r\n",
        "xgb_param = {\r\n",
        "    'max_depth':[10,2,20],\r\n",
        "    'tree_method':['exact','approx','hist','gpu_hist']\r\n",
        "}\r\n",
        "svm_param = {\r\n",
        "    'kernel':['poly','sigmoid','rbf'],\r\n",
        "    'C':[1.5,1.25,0.5]\r\n",
        "}"
      ],
      "execution_count": null,
      "outputs": []
    },
    {
      "cell_type": "code",
      "metadata": {
        "id": "sicn6DLHAsc8"
      },
      "source": [
        "clf_rf = RandomizedSearchCV(randf_model, rf_param,scoring='neg_mean_squared_error', n_iter=50, cv=5, random_state=2019)\r\n",
        "clf_dt = RandomizedSearchCV(decisionT_model, dt_param,scoring='neg_mean_squared_error', n_iter=50, cv=5, random_state=2019)\r\n",
        "clf_svm = RandomizedSearchCV(svm_model, svm_param,scoring='neg_mean_squared_error', n_iter=50, cv=5, random_state=2019)\r\n",
        "clf_xgb = RandomizedSearchCV(xgb_model, xgb_param,scoring='neg_mean_squared_error', n_iter=50, cv=5, random_state=2019)\r\n",
        "clf_knn = RandomizedSearchCV(knn_model, knn_param,scoring='neg_mean_squared_error', n_iter=50, cv=5, random_state=2019)"
      ],
      "execution_count": null,
      "outputs": []
    },
    {
      "cell_type": "code",
      "metadata": {
        "id": "5OsKOrEf1k6T"
      },
      "source": [
        "model_rf = clf_rf.fit(X_train,y_train)\r\n",
        "model_dt = clf_dt.fit(X_train,y_train)\r\n",
        "model_svm = clf_svm.fit(X_train,y_train)\r\n",
        "model_knn = clf_knn.fit(X_train,y_train)\r\n",
        "model_xgb = clf_xgb.fit(X_train,y_train)"
      ],
      "execution_count": null,
      "outputs": []
    },
    {
      "cell_type": "code",
      "metadata": {
        "colab": {
          "base_uri": "https://localhost:8080/"
        },
        "id": "9ZDgjqwx6EmT",
        "outputId": "17111b7a-b5e8-4f2d-c60b-7c354f3c3fc7"
      },
      "source": [
        "print(\"Random forest\",model_rf.best_score_)\r\n",
        "print(\"Decision Tree\",model_dt.best_score_)\r\n",
        "print(\"SVM\",model_svm.best_score_)\r\n",
        "print(\"KNN\",model_knn.best_score_)\r\n",
        "print(\"XGB\",model_xgb.best_score_)\r\n"
      ],
      "execution_count": null,
      "outputs": [
        {
          "output_type": "stream",
          "text": [
            "Random forest -14.266252444208854\n",
            "Decision Tree -28.946480824700917\n",
            "SVM -70.8259484806271\n",
            "KNN -35.849082259259255\n",
            "XGB -11.670600762924181\n"
          ],
          "name": "stdout"
        }
      ]
    },
    {
      "cell_type": "markdown",
      "metadata": {
        "id": "RSNOCa7lI2Md"
      },
      "source": [
        "so as per the MSE score I will choose \"XGB\" as the regressor with the lowest error value"
      ]
    },
    {
      "cell_type": "code",
      "metadata": {
        "colab": {
          "base_uri": "https://localhost:8080/"
        },
        "id": "nGUONMGhMWeT",
        "outputId": "8e93aafa-9a15-45c7-929b-de895bf47572"
      },
      "source": [
        "model_xgb.score(X_test,y_test)"
      ],
      "execution_count": null,
      "outputs": [
        {
          "output_type": "execute_result",
          "data": {
            "text/plain": [
              "-7.59562443716176"
            ]
          },
          "metadata": {
            "tags": []
          },
          "execution_count": 39
        }
      ]
    },
    {
      "cell_type": "code",
      "metadata": {
        "colab": {
          "base_uri": "https://localhost:8080/"
        },
        "id": "8Smdlu2k10Kr",
        "outputId": "abda2dac-bd7e-40ea-89ca-f05bcdd2c3d8"
      },
      "source": [
        "# model_xgb.score(X_test,y_test)\r\n",
        "y_pred = model_xgb.predict(X_test)\r\n",
        "mean_squared_error(y_test, y_pred)"
      ],
      "execution_count": null,
      "outputs": [
        {
          "output_type": "execute_result",
          "data": {
            "text/plain": [
              "7.59562443716176"
            ]
          },
          "metadata": {
            "tags": []
          },
          "execution_count": 40
        }
      ]
    },
    {
      "cell_type": "markdown",
      "metadata": {
        "id": "BI-vKw2eK2u9"
      },
      "source": [
        "## **Question 3**"
      ]
    },
    {
      "cell_type": "code",
      "metadata": {
        "id": "h86g6fraKzMV"
      },
      "source": [
        "X,y = make_classification(n_samples=10000,n_classes=2,n_features=200)"
      ],
      "execution_count": 3,
      "outputs": []
    },
    {
      "cell_type": "code",
      "metadata": {
        "id": "IFSRcOCJNshn"
      },
      "source": [
        "X_train, X_test, y_train, y_test = train_test_split(X, y, test_size=0.20, random_state=42, stratify=y)"
      ],
      "execution_count": 4,
      "outputs": []
    },
    {
      "cell_type": "markdown",
      "metadata": {
        "id": "LuxOZQQwVh2y"
      },
      "source": [
        "first we define the input layer since each row will be an input we need to have a shape of 200 as we have 200 features<br>\r\n",
        "then we have two hidden layers with number of units/nodes = 16 and activation function as relu <br>\r\n",
        "then an output layer <br>"
      ]
    },
    {
      "cell_type": "markdown",
      "metadata": {
        "id": "TIHZ0wmJJVDh"
      },
      "source": [
        "Also we need to make sure that we add the parametes we are trying to tune already in the build_model function <br>\r\n"
      ]
    },
    {
      "cell_type": "code",
      "metadata": {
        "id": "iBZRTh5ft0mO"
      },
      "source": [
        "def build_model(n_hidden=2, n_neurons=16, learning_rate=3e-3, input_shape=[200],epochs=5,batch_size=5,optimizer='Adam'):\r\n",
        "    model = keras.models.Sequential()\r\n",
        "    model.add(keras.layers.InputLayer(input_shape=input_shape))\r\n",
        "    for layer in range(n_hidden):\r\n",
        "        model.add(keras.layers.Dense(n_neurons, activation=\"relu\"))\r\n",
        "    model.add(keras.layers.Dense(1,activation=\"relu\"))\r\n",
        "    optimizer = optimizers.RMSprop(lr=learning_rate)\r\n",
        "    model.compile(loss=\"binary_crossentropy\", optimizer=optimizer, metrics=[\"accuracy\"])\r\n",
        "    return model"
      ],
      "execution_count": 5,
      "outputs": []
    },
    {
      "cell_type": "code",
      "metadata": {
        "id": "jS1b7ctZuYv_"
      },
      "source": [
        "keras_classifier = KerasClassifier(build_model)"
      ],
      "execution_count": 6,
      "outputs": []
    },
    {
      "cell_type": "code",
      "metadata": {
        "id": "2pyktf2zuhMJ"
      },
      "source": [
        "hyper_param = {\r\n",
        "    'epochs': [5,10],\r\n",
        "    'batch_size': [5,10,100],\r\n",
        "    'optimizer':['RMSprop', 'Adam'],\r\n",
        "}"
      ],
      "execution_count": 7,
      "outputs": []
    },
    {
      "cell_type": "code",
      "metadata": {
        "id": "LxB8jbExuntZ"
      },
      "source": [
        "rnd_search_cv = RandomizedSearchCV(keras_classifier, hyper_param, n_iter=70, cv=3)"
      ],
      "execution_count": 8,
      "outputs": []
    },
    {
      "cell_type": "code",
      "metadata": {
        "colab": {
          "base_uri": "https://localhost:8080/"
        },
        "id": "SxIbKV0dupRJ",
        "outputId": "835c35dd-db8b-4de8-c9f9-ab7628ad16b4"
      },
      "source": [
        "rnd_search_cv.fit(X_train,y_train)"
      ],
      "execution_count": 9,
      "outputs": [
        {
          "output_type": "stream",
          "text": [
            "Epoch 1/5\n",
            "1067/1067 [==============================] - 2s 1ms/step - loss: 2.9941 - accuracy: 0.6817\n",
            "Epoch 2/5\n",
            "1067/1067 [==============================] - 1s 1ms/step - loss: 1.5707 - accuracy: 0.8638\n",
            "Epoch 3/5\n",
            "1067/1067 [==============================] - 1s 1ms/step - loss: 1.4527 - accuracy: 0.8794\n",
            "Epoch 4/5\n",
            "1067/1067 [==============================] - 1s 1ms/step - loss: 1.4515 - accuracy: 0.8867\n",
            "Epoch 5/5\n",
            "1067/1067 [==============================] - 1s 1ms/step - loss: 1.3550 - accuracy: 0.8994\n",
            "534/534 [==============================] - 1s 965us/step - loss: 1.9133 - accuracy: 0.8511\n",
            "Epoch 1/5\n",
            "1067/1067 [==============================] - 2s 1ms/step - loss: 3.4149 - accuracy: 0.6811\n",
            "Epoch 2/5\n",
            "1067/1067 [==============================] - 1s 1ms/step - loss: 1.4367 - accuracy: 0.8693\n",
            "Epoch 3/5\n",
            "1067/1067 [==============================] - 1s 1ms/step - loss: 1.2221 - accuracy: 0.8932\n",
            "Epoch 4/5\n",
            "1067/1067 [==============================] - 1s 1ms/step - loss: 1.3779 - accuracy: 0.8931\n",
            "Epoch 5/5\n",
            "1067/1067 [==============================] - 1s 1ms/step - loss: 1.3126 - accuracy: 0.8977\n",
            "534/534 [==============================] - 1s 972us/step - loss: 1.8949 - accuracy: 0.8523\n",
            "Epoch 1/5\n",
            "1067/1067 [==============================] - 2s 1ms/step - loss: 1.8260 - accuracy: 0.7095\n",
            "Epoch 2/5\n",
            "1067/1067 [==============================] - 1s 1ms/step - loss: 1.2729 - accuracy: 0.8763\n",
            "Epoch 3/5\n",
            "1067/1067 [==============================] - 1s 1ms/step - loss: 1.2518 - accuracy: 0.8890\n",
            "Epoch 4/5\n",
            "1067/1067 [==============================] - 1s 1ms/step - loss: 1.2490 - accuracy: 0.8974\n",
            "Epoch 5/5\n",
            "1067/1067 [==============================] - 1s 1ms/step - loss: 1.1851 - accuracy: 0.9080\n",
            "534/534 [==============================] - 1s 995us/step - loss: 1.8727 - accuracy: 0.8451\n",
            "Epoch 1/5\n",
            "1067/1067 [==============================] - 2s 1ms/step - loss: 2.1881 - accuracy: 0.6877\n",
            "Epoch 2/5\n",
            "1067/1067 [==============================] - 1s 1ms/step - loss: 1.1560 - accuracy: 0.8718\n",
            "Epoch 3/5\n",
            "1067/1067 [==============================] - 1s 1ms/step - loss: 1.2339 - accuracy: 0.8828\n",
            "Epoch 4/5\n",
            "1067/1067 [==============================] - 1s 1ms/step - loss: 1.0862 - accuracy: 0.9036\n",
            "Epoch 5/5\n",
            "1067/1067 [==============================] - 1s 1ms/step - loss: 1.0086 - accuracy: 0.9111\n",
            "534/534 [==============================] - 1s 983us/step - loss: 1.6279 - accuracy: 0.8624\n",
            "Epoch 1/5\n",
            "1067/1067 [==============================] - 2s 1ms/step - loss: 2.6630 - accuracy: 0.6843\n",
            "Epoch 2/5\n",
            "1067/1067 [==============================] - 1s 1ms/step - loss: 1.2490 - accuracy: 0.8844\n",
            "Epoch 3/5\n",
            "1067/1067 [==============================] - 1s 1ms/step - loss: 1.1389 - accuracy: 0.8960\n",
            "Epoch 4/5\n",
            "1067/1067 [==============================] - 1s 1ms/step - loss: 1.2216 - accuracy: 0.9025\n",
            "Epoch 5/5\n",
            "1067/1067 [==============================] - 1s 1ms/step - loss: 1.1070 - accuracy: 0.9143\n",
            "534/534 [==============================] - 1s 970us/step - loss: 1.9929 - accuracy: 0.8474\n",
            "Epoch 1/5\n",
            "1067/1067 [==============================] - 2s 1ms/step - loss: 6.9524 - accuracy: 0.5214\n",
            "Epoch 2/5\n",
            "1067/1067 [==============================] - 1s 1ms/step - loss: 1.3138 - accuracy: 0.8397\n",
            "Epoch 3/5\n",
            "1067/1067 [==============================] - 1s 1ms/step - loss: 1.2151 - accuracy: 0.8837\n",
            "Epoch 4/5\n",
            "1067/1067 [==============================] - 1s 1ms/step - loss: 1.1586 - accuracy: 0.8963\n",
            "Epoch 5/5\n",
            "1067/1067 [==============================] - 1s 1ms/step - loss: 1.1100 - accuracy: 0.9081\n",
            "534/534 [==============================] - 1s 996us/step - loss: 1.7370 - accuracy: 0.8541\n",
            "Epoch 1/10\n",
            "1067/1067 [==============================] - 2s 1ms/step - loss: 1.6522 - accuracy: 0.7003\n",
            "Epoch 2/10\n",
            "1067/1067 [==============================] - 1s 1ms/step - loss: 1.2237 - accuracy: 0.8744\n",
            "Epoch 3/10\n",
            "1067/1067 [==============================] - 1s 1ms/step - loss: 1.2392 - accuracy: 0.8913\n",
            "Epoch 4/10\n",
            "1067/1067 [==============================] - 1s 1ms/step - loss: 1.1753 - accuracy: 0.9013\n",
            "Epoch 5/10\n",
            "1067/1067 [==============================] - 1s 1ms/step - loss: 1.2288 - accuracy: 0.9010\n",
            "Epoch 6/10\n",
            "1067/1067 [==============================] - 1s 1ms/step - loss: 1.1092 - accuracy: 0.9156\n",
            "Epoch 7/10\n",
            "1067/1067 [==============================] - 1s 1ms/step - loss: 1.0170 - accuracy: 0.9230\n",
            "Epoch 8/10\n",
            "1067/1067 [==============================] - 1s 1ms/step - loss: 1.1199 - accuracy: 0.9192\n",
            "Epoch 9/10\n",
            "1067/1067 [==============================] - 1s 1ms/step - loss: 0.9896 - accuracy: 0.9265\n",
            "Epoch 10/10\n",
            "1067/1067 [==============================] - 1s 1ms/step - loss: 0.9971 - accuracy: 0.9293\n",
            "534/534 [==============================] - 1s 929us/step - loss: 1.9246 - accuracy: 0.8511\n",
            "Epoch 1/10\n",
            "1067/1067 [==============================] - 2s 1ms/step - loss: 4.5268 - accuracy: 0.6221\n",
            "Epoch 2/10\n",
            "1067/1067 [==============================] - 2s 1ms/step - loss: 1.2915 - accuracy: 0.8705\n",
            "Epoch 3/10\n",
            "1067/1067 [==============================] - 2s 2ms/step - loss: 1.1562 - accuracy: 0.8902\n",
            "Epoch 4/10\n",
            "1067/1067 [==============================] - 2s 2ms/step - loss: 1.0716 - accuracy: 0.9079\n",
            "Epoch 5/10\n",
            "1067/1067 [==============================] - 2s 2ms/step - loss: 1.1427 - accuracy: 0.9168\n",
            "Epoch 6/10\n",
            "1067/1067 [==============================] - 2s 2ms/step - loss: 1.1588 - accuracy: 0.9081\n",
            "Epoch 7/10\n",
            "1067/1067 [==============================] - 2s 2ms/step - loss: 1.1228 - accuracy: 0.9157\n",
            "Epoch 8/10\n",
            "1067/1067 [==============================] - 2s 2ms/step - loss: 1.1267 - accuracy: 0.9162\n",
            "Epoch 9/10\n",
            "1067/1067 [==============================] - 2s 1ms/step - loss: 1.0347 - accuracy: 0.9246\n",
            "Epoch 10/10\n",
            "1067/1067 [==============================] - 1s 1ms/step - loss: 1.0066 - accuracy: 0.9303\n",
            "534/534 [==============================] - 1s 988us/step - loss: 1.9486 - accuracy: 0.8545\n",
            "Epoch 1/10\n",
            "1067/1067 [==============================] - 2s 1ms/step - loss: 2.0431 - accuracy: 0.7249\n",
            "Epoch 2/10\n",
            "1067/1067 [==============================] - 1s 1ms/step - loss: 1.1699 - accuracy: 0.8814\n",
            "Epoch 3/10\n",
            "1067/1067 [==============================] - 1s 1ms/step - loss: 1.2292 - accuracy: 0.8897\n",
            "Epoch 4/10\n",
            "1067/1067 [==============================] - 1s 1ms/step - loss: 1.1096 - accuracy: 0.9000\n",
            "Epoch 5/10\n",
            "1067/1067 [==============================] - 1s 1ms/step - loss: 1.1366 - accuracy: 0.9083\n",
            "Epoch 6/10\n",
            "1067/1067 [==============================] - 1s 1ms/step - loss: 1.1493 - accuracy: 0.9121\n",
            "Epoch 7/10\n",
            "1067/1067 [==============================] - 1s 1ms/step - loss: 1.1986 - accuracy: 0.9090\n",
            "Epoch 8/10\n",
            "1067/1067 [==============================] - 1s 1ms/step - loss: 1.1570 - accuracy: 0.9182\n",
            "Epoch 9/10\n",
            "1067/1067 [==============================] - 1s 1ms/step - loss: 1.0652 - accuracy: 0.9213\n",
            "Epoch 10/10\n",
            "1067/1067 [==============================] - 1s 1ms/step - loss: 0.9770 - accuracy: 0.9276\n",
            "534/534 [==============================] - 1s 1ms/step - loss: 2.0217 - accuracy: 0.8522\n",
            "Epoch 1/10\n",
            "1067/1067 [==============================] - 2s 1ms/step - loss: 1.8033 - accuracy: 0.7135\n",
            "Epoch 2/10\n",
            "1067/1067 [==============================] - 1s 1ms/step - loss: 1.0850 - accuracy: 0.8734\n",
            "Epoch 3/10\n",
            "1067/1067 [==============================] - 1s 1ms/step - loss: 1.1123 - accuracy: 0.8934\n",
            "Epoch 4/10\n",
            "1067/1067 [==============================] - 1s 1ms/step - loss: 1.1483 - accuracy: 0.8967\n",
            "Epoch 5/10\n",
            "1067/1067 [==============================] - 1s 1ms/step - loss: 1.1508 - accuracy: 0.9037\n",
            "Epoch 6/10\n",
            "1067/1067 [==============================] - 1s 1ms/step - loss: 1.0200 - accuracy: 0.9192\n",
            "Epoch 7/10\n",
            "1067/1067 [==============================] - 1s 1ms/step - loss: 1.1876 - accuracy: 0.9088\n",
            "Epoch 8/10\n",
            "1067/1067 [==============================] - 1s 1ms/step - loss: 1.0468 - accuracy: 0.9225\n",
            "Epoch 9/10\n",
            "1067/1067 [==============================] - 1s 1ms/step - loss: 1.0653 - accuracy: 0.9231\n",
            "Epoch 10/10\n",
            "1067/1067 [==============================] - 1s 1ms/step - loss: 0.9325 - accuracy: 0.9323\n",
            "534/534 [==============================] - 1s 981us/step - loss: 2.0472 - accuracy: 0.8433\n",
            "Epoch 1/10\n",
            "1067/1067 [==============================] - 2s 1ms/step - loss: 1.9464 - accuracy: 0.7015\n",
            "Epoch 2/10\n",
            "1067/1067 [==============================] - 1s 1ms/step - loss: 0.9184 - accuracy: 0.8894\n",
            "Epoch 3/10\n",
            "1067/1067 [==============================] - 1s 1ms/step - loss: 0.9814 - accuracy: 0.8944\n",
            "Epoch 4/10\n",
            "1067/1067 [==============================] - 1s 1ms/step - loss: 0.9248 - accuracy: 0.9178\n",
            "Epoch 5/10\n",
            "1067/1067 [==============================] - 1s 1ms/step - loss: 0.8726 - accuracy: 0.9259\n",
            "Epoch 6/10\n",
            "1067/1067 [==============================] - 1s 1ms/step - loss: 0.7784 - accuracy: 0.9318\n",
            "Epoch 7/10\n",
            "1067/1067 [==============================] - 1s 1ms/step - loss: 1.0203 - accuracy: 0.9269\n",
            "Epoch 8/10\n",
            "1067/1067 [==============================] - 1s 1ms/step - loss: 0.9543 - accuracy: 0.9301\n",
            "Epoch 9/10\n",
            "1067/1067 [==============================] - 1s 1ms/step - loss: 0.9152 - accuracy: 0.9325\n",
            "Epoch 10/10\n",
            "1067/1067 [==============================] - 1s 1ms/step - loss: 0.9341 - accuracy: 0.9334\n",
            "534/534 [==============================] - 1s 1ms/step - loss: 2.0391 - accuracy: 0.8485\n",
            "Epoch 1/10\n",
            "1067/1067 [==============================] - 2s 1ms/step - loss: 2.3739 - accuracy: 0.6955\n",
            "Epoch 2/10\n",
            "1067/1067 [==============================] - 1s 1ms/step - loss: 1.0581 - accuracy: 0.8821\n",
            "Epoch 3/10\n",
            "1067/1067 [==============================] - 1s 1ms/step - loss: 1.0478 - accuracy: 0.9033\n",
            "Epoch 4/10\n",
            "1067/1067 [==============================] - 1s 1ms/step - loss: 1.1206 - accuracy: 0.9076\n",
            "Epoch 5/10\n",
            "1067/1067 [==============================] - 1s 1ms/step - loss: 1.0724 - accuracy: 0.9158\n",
            "Epoch 6/10\n",
            "1067/1067 [==============================] - 1s 1ms/step - loss: 1.0701 - accuracy: 0.9194\n",
            "Epoch 7/10\n",
            "1067/1067 [==============================] - 1s 1ms/step - loss: 0.9822 - accuracy: 0.9185\n",
            "Epoch 8/10\n",
            "1067/1067 [==============================] - 1s 1ms/step - loss: 0.9852 - accuracy: 0.9277\n",
            "Epoch 9/10\n",
            "1067/1067 [==============================] - 1s 1ms/step - loss: 1.0174 - accuracy: 0.9199\n",
            "Epoch 10/10\n",
            "1067/1067 [==============================] - 1s 1ms/step - loss: 0.9237 - accuracy: 0.9299\n",
            "534/534 [==============================] - 1s 967us/step - loss: 2.0043 - accuracy: 0.8518\n",
            "Epoch 1/5\n",
            "534/534 [==============================] - 1s 1ms/step - loss: 2.8706 - accuracy: 0.6449\n",
            "Epoch 2/5\n",
            "534/534 [==============================] - 1s 1ms/step - loss: 0.8697 - accuracy: 0.8638\n",
            "Epoch 3/5\n",
            "534/534 [==============================] - 1s 1ms/step - loss: 0.9315 - accuracy: 0.8874\n",
            "Epoch 4/5\n",
            "534/534 [==============================] - 1s 1ms/step - loss: 0.8028 - accuracy: 0.9133\n",
            "Epoch 5/5\n",
            "534/534 [==============================] - 1s 1ms/step - loss: 0.8326 - accuracy: 0.9183\n",
            "267/267 [==============================] - 0s 916us/step - loss: 1.4098 - accuracy: 0.8470\n",
            "Epoch 1/5\n",
            "534/534 [==============================] - 1s 1ms/step - loss: 1.7244 - accuracy: 0.6954\n",
            "Epoch 2/5\n",
            "534/534 [==============================] - 1s 1ms/step - loss: 0.9589 - accuracy: 0.8742\n",
            "Epoch 3/5\n",
            "534/534 [==============================] - 1s 1ms/step - loss: 0.8553 - accuracy: 0.8974\n",
            "Epoch 4/5\n",
            "534/534 [==============================] - 1s 1ms/step - loss: 0.8734 - accuracy: 0.9035\n",
            "Epoch 5/5\n",
            "534/534 [==============================] - 1s 1ms/step - loss: 0.8204 - accuracy: 0.9113\n",
            "267/267 [==============================] - 0s 944us/step - loss: 1.4776 - accuracy: 0.8414\n",
            "Epoch 1/5\n",
            "534/534 [==============================] - 1s 1ms/step - loss: 4.5153 - accuracy: 0.5943\n",
            "Epoch 2/5\n",
            "534/534 [==============================] - 1s 1ms/step - loss: 0.8697 - accuracy: 0.8723\n",
            "Epoch 3/5\n",
            "534/534 [==============================] - 1s 1ms/step - loss: 0.8139 - accuracy: 0.8968\n",
            "Epoch 4/5\n",
            "534/534 [==============================] - 1s 1ms/step - loss: 0.8132 - accuracy: 0.9095\n",
            "Epoch 5/5\n",
            "534/534 [==============================] - 1s 1ms/step - loss: 0.8935 - accuracy: 0.9144\n",
            "267/267 [==============================] - 0s 1ms/step - loss: 1.4749 - accuracy: 0.8515\n",
            "Epoch 1/5\n",
            "534/534 [==============================] - 1s 1ms/step - loss: 2.9337 - accuracy: 0.6601\n",
            "Epoch 2/5\n",
            "534/534 [==============================] - 1s 1ms/step - loss: 0.9956 - accuracy: 0.8469\n",
            "Epoch 3/5\n",
            "534/534 [==============================] - 1s 1ms/step - loss: 0.8832 - accuracy: 0.8837\n",
            "Epoch 4/5\n",
            "534/534 [==============================] - 1s 1ms/step - loss: 0.8793 - accuracy: 0.8984\n",
            "Epoch 5/5\n",
            "534/534 [==============================] - 1s 1ms/step - loss: 0.8382 - accuracy: 0.9143\n",
            "267/267 [==============================] - 0s 1ms/step - loss: 1.4342 - accuracy: 0.8515\n",
            "Epoch 1/5\n",
            "534/534 [==============================] - 1s 1ms/step - loss: 1.3413 - accuracy: 0.6897\n",
            "Epoch 2/5\n",
            "534/534 [==============================] - 1s 1ms/step - loss: 0.8380 - accuracy: 0.8811\n",
            "Epoch 3/5\n",
            "534/534 [==============================] - 1s 1ms/step - loss: 0.8128 - accuracy: 0.9077\n",
            "Epoch 4/5\n",
            "534/534 [==============================] - 1s 1ms/step - loss: 0.7502 - accuracy: 0.9130\n",
            "Epoch 5/5\n",
            "534/534 [==============================] - 1s 1ms/step - loss: 0.7813 - accuracy: 0.9291\n",
            "267/267 [==============================] - 0s 955us/step - loss: 1.5111 - accuracy: 0.8553\n",
            "Epoch 1/5\n",
            "534/534 [==============================] - 2s 1ms/step - loss: 1.5064 - accuracy: 0.6604\n",
            "Epoch 2/5\n",
            "534/534 [==============================] - 1s 1ms/step - loss: 0.6442 - accuracy: 0.8736\n",
            "Epoch 3/5\n",
            "534/534 [==============================] - 1s 1ms/step - loss: 0.6585 - accuracy: 0.8978\n",
            "Epoch 4/5\n",
            "534/534 [==============================] - 1s 1ms/step - loss: 0.6769 - accuracy: 0.9115\n",
            "Epoch 5/5\n",
            "534/534 [==============================] - 1s 1ms/step - loss: 0.6971 - accuracy: 0.9208\n",
            "267/267 [==============================] - 0s 935us/step - loss: 1.4433 - accuracy: 0.8552\n",
            "Epoch 1/10\n",
            "534/534 [==============================] - 1s 1ms/step - loss: 1.3163 - accuracy: 0.7006\n",
            "Epoch 2/10\n",
            "534/534 [==============================] - 1s 1ms/step - loss: 0.8402 - accuracy: 0.8805\n",
            "Epoch 3/10\n",
            "534/534 [==============================] - 1s 1ms/step - loss: 0.8081 - accuracy: 0.8960\n",
            "Epoch 4/10\n",
            "534/534 [==============================] - 1s 1ms/step - loss: 0.8576 - accuracy: 0.9067\n",
            "Epoch 5/10\n",
            "534/534 [==============================] - 1s 1ms/step - loss: 0.7869 - accuracy: 0.9207\n",
            "Epoch 6/10\n",
            "534/534 [==============================] - 1s 1ms/step - loss: 0.7377 - accuracy: 0.9322\n",
            "Epoch 7/10\n",
            "534/534 [==============================] - 1s 1ms/step - loss: 0.8025 - accuracy: 0.9370\n",
            "Epoch 8/10\n",
            "534/534 [==============================] - 1s 1ms/step - loss: 0.6567 - accuracy: 0.9433\n",
            "Epoch 9/10\n",
            "534/534 [==============================] - 1s 1ms/step - loss: 0.8201 - accuracy: 0.9368\n",
            "Epoch 10/10\n",
            "534/534 [==============================] - 1s 1ms/step - loss: 0.7169 - accuracy: 0.9452\n",
            "267/267 [==============================] - 0s 1ms/step - loss: 1.8518 - accuracy: 0.8519\n",
            "Epoch 1/10\n",
            "534/534 [==============================] - 1s 1ms/step - loss: 1.6579 - accuracy: 0.6459\n",
            "Epoch 2/10\n",
            "534/534 [==============================] - 1s 1ms/step - loss: 0.8449 - accuracy: 0.8907\n",
            "Epoch 3/10\n",
            "534/534 [==============================] - 1s 1ms/step - loss: 0.7560 - accuracy: 0.9019\n",
            "Epoch 4/10\n",
            "534/534 [==============================] - 1s 1ms/step - loss: 0.7788 - accuracy: 0.9183\n",
            "Epoch 5/10\n",
            "534/534 [==============================] - 1s 1ms/step - loss: 0.7534 - accuracy: 0.9333\n",
            "Epoch 6/10\n",
            "534/534 [==============================] - 1s 1ms/step - loss: 0.7344 - accuracy: 0.9358\n",
            "Epoch 7/10\n",
            "534/534 [==============================] - 1s 1ms/step - loss: 0.7371 - accuracy: 0.9449\n",
            "Epoch 8/10\n",
            "534/534 [==============================] - 1s 1ms/step - loss: 0.7557 - accuracy: 0.9414\n",
            "Epoch 9/10\n",
            "534/534 [==============================] - 1s 1ms/step - loss: 0.7277 - accuracy: 0.9453\n",
            "Epoch 10/10\n",
            "534/534 [==============================] - 1s 1ms/step - loss: 0.7019 - accuracy: 0.9484\n",
            "267/267 [==============================] - 0s 1ms/step - loss: 2.0481 - accuracy: 0.8410\n",
            "Epoch 1/10\n",
            "534/534 [==============================] - 1s 1ms/step - loss: 1.4316 - accuracy: 0.6984\n",
            "Epoch 2/10\n",
            "534/534 [==============================] - 1s 1ms/step - loss: 0.7339 - accuracy: 0.8808\n",
            "Epoch 3/10\n",
            "534/534 [==============================] - 1s 1ms/step - loss: 0.7275 - accuracy: 0.8981\n",
            "Epoch 4/10\n",
            "534/534 [==============================] - 1s 1ms/step - loss: 0.6497 - accuracy: 0.9127\n",
            "Epoch 5/10\n",
            "534/534 [==============================] - 1s 1ms/step - loss: 0.6970 - accuracy: 0.9227\n",
            "Epoch 6/10\n",
            "534/534 [==============================] - 1s 1ms/step - loss: 0.6679 - accuracy: 0.9377\n",
            "Epoch 7/10\n",
            "534/534 [==============================] - 1s 1ms/step - loss: 0.6435 - accuracy: 0.9425\n",
            "Epoch 8/10\n",
            "534/534 [==============================] - 1s 1ms/step - loss: 0.7162 - accuracy: 0.9406\n",
            "Epoch 9/10\n",
            "534/534 [==============================] - 1s 1ms/step - loss: 0.7025 - accuracy: 0.9454\n",
            "Epoch 10/10\n",
            "534/534 [==============================] - 1s 1ms/step - loss: 0.6603 - accuracy: 0.9501\n",
            "267/267 [==============================] - 0s 1ms/step - loss: 1.9329 - accuracy: 0.8410\n",
            "Epoch 1/10\n",
            "534/534 [==============================] - 1s 1ms/step - loss: 2.6737 - accuracy: 0.6613\n",
            "Epoch 2/10\n",
            "534/534 [==============================] - 1s 1ms/step - loss: 1.0898 - accuracy: 0.8692\n",
            "Epoch 3/10\n",
            "534/534 [==============================] - 1s 1ms/step - loss: 0.9884 - accuracy: 0.8974\n",
            "Epoch 4/10\n",
            "534/534 [==============================] - 1s 1ms/step - loss: 1.0144 - accuracy: 0.9095\n",
            "Epoch 5/10\n",
            "534/534 [==============================] - 1s 1ms/step - loss: 0.9078 - accuracy: 0.9189\n",
            "Epoch 6/10\n",
            "534/534 [==============================] - 1s 1ms/step - loss: 0.9195 - accuracy: 0.9210\n",
            "Epoch 7/10\n",
            "534/534 [==============================] - 1s 1ms/step - loss: 0.9749 - accuracy: 0.9226\n",
            "Epoch 8/10\n",
            "534/534 [==============================] - 1s 1ms/step - loss: 0.8772 - accuracy: 0.9292\n",
            "Epoch 9/10\n",
            "534/534 [==============================] - 1s 1ms/step - loss: 0.8410 - accuracy: 0.9373\n",
            "Epoch 10/10\n",
            "534/534 [==============================] - 1s 1ms/step - loss: 0.8177 - accuracy: 0.9410\n",
            "267/267 [==============================] - 0s 1ms/step - loss: 1.9506 - accuracy: 0.8433\n",
            "Epoch 1/10\n",
            "534/534 [==============================] - 1s 1ms/step - loss: 3.4276 - accuracy: 0.6548\n",
            "Epoch 2/10\n",
            "534/534 [==============================] - 1s 1ms/step - loss: 1.0378 - accuracy: 0.8728\n",
            "Epoch 3/10\n",
            "534/534 [==============================] - 1s 1ms/step - loss: 0.9411 - accuracy: 0.9030\n",
            "Epoch 4/10\n",
            "534/534 [==============================] - 1s 1ms/step - loss: 0.8592 - accuracy: 0.9156\n",
            "Epoch 5/10\n",
            "534/534 [==============================] - 1s 1ms/step - loss: 1.0071 - accuracy: 0.9113\n",
            "Epoch 6/10\n",
            "534/534 [==============================] - 1s 1ms/step - loss: 0.8614 - accuracy: 0.9275\n",
            "Epoch 7/10\n",
            "534/534 [==============================] - 1s 1ms/step - loss: 0.8409 - accuracy: 0.9341\n",
            "Epoch 8/10\n",
            "534/534 [==============================] - 1s 1ms/step - loss: 0.8980 - accuracy: 0.9295\n",
            "Epoch 9/10\n",
            "534/534 [==============================] - 1s 1ms/step - loss: 0.7642 - accuracy: 0.9431\n",
            "Epoch 10/10\n",
            "534/534 [==============================] - 1s 1ms/step - loss: 0.7983 - accuracy: 0.9392\n",
            "267/267 [==============================] - 0s 1ms/step - loss: 1.9398 - accuracy: 0.8406\n",
            "Epoch 1/10\n",
            "534/534 [==============================] - 1s 1ms/step - loss: 2.1568 - accuracy: 0.6794\n",
            "Epoch 2/10\n",
            "534/534 [==============================] - 1s 1ms/step - loss: 0.8577 - accuracy: 0.8626\n",
            "Epoch 3/10\n",
            "534/534 [==============================] - 1s 1ms/step - loss: 0.9760 - accuracy: 0.8932\n",
            "Epoch 4/10\n",
            "534/534 [==============================] - 1s 1ms/step - loss: 0.8499 - accuracy: 0.9111\n",
            "Epoch 5/10\n",
            "534/534 [==============================] - 1s 1ms/step - loss: 0.7750 - accuracy: 0.9203\n",
            "Epoch 6/10\n",
            "534/534 [==============================] - 1s 1ms/step - loss: 0.7137 - accuracy: 0.9388\n",
            "Epoch 7/10\n",
            "534/534 [==============================] - 1s 1ms/step - loss: 0.7530 - accuracy: 0.9355\n",
            "Epoch 8/10\n",
            "534/534 [==============================] - 1s 1ms/step - loss: 0.6998 - accuracy: 0.9423\n",
            "Epoch 9/10\n",
            "534/534 [==============================] - 1s 1ms/step - loss: 0.7415 - accuracy: 0.9401\n",
            "Epoch 10/10\n",
            "534/534 [==============================] - 1s 1ms/step - loss: 0.7472 - accuracy: 0.9420\n",
            "267/267 [==============================] - 0s 1ms/step - loss: 1.9469 - accuracy: 0.8428\n",
            "Epoch 1/5\n",
            "54/54 [==============================] - 1s 1ms/step - loss: 2.4744 - accuracy: 0.5870\n",
            "Epoch 2/5\n",
            "54/54 [==============================] - 0s 2ms/step - loss: 0.8632 - accuracy: 0.7328\n",
            "Epoch 3/5\n",
            "54/54 [==============================] - 0s 2ms/step - loss: 0.6178 - accuracy: 0.8276\n",
            "Epoch 4/5\n",
            "54/54 [==============================] - 0s 2ms/step - loss: 0.5160 - accuracy: 0.8593\n",
            "Epoch 5/5\n",
            "54/54 [==============================] - 0s 2ms/step - loss: 0.4702 - accuracy: 0.8843\n",
            "27/27 [==============================] - 0s 1ms/step - loss: 0.7379 - accuracy: 0.8474\n",
            "Epoch 1/5\n",
            "54/54 [==============================] - 1s 1ms/step - loss: 2.7301 - accuracy: 0.5767\n",
            "Epoch 2/5\n",
            "54/54 [==============================] - 0s 2ms/step - loss: 0.9237 - accuracy: 0.7206\n",
            "Epoch 3/5\n",
            "54/54 [==============================] - 0s 2ms/step - loss: 0.6940 - accuracy: 0.8005\n",
            "Epoch 4/5\n",
            "54/54 [==============================] - 0s 2ms/step - loss: 0.5522 - accuracy: 0.8681\n",
            "Epoch 5/5\n",
            "54/54 [==============================] - 0s 2ms/step - loss: 0.4993 - accuracy: 0.8967\n",
            "27/27 [==============================] - 0s 1ms/step - loss: 0.8587 - accuracy: 0.8455\n",
            "Epoch 1/5\n",
            "54/54 [==============================] - 1s 2ms/step - loss: 4.6354 - accuracy: 0.5673\n",
            "Epoch 2/5\n",
            "54/54 [==============================] - 0s 1ms/step - loss: 1.4444 - accuracy: 0.7216\n",
            "Epoch 3/5\n",
            "54/54 [==============================] - 0s 2ms/step - loss: 0.9318 - accuracy: 0.8025\n",
            "Epoch 4/5\n",
            "54/54 [==============================] - 0s 2ms/step - loss: 0.7274 - accuracy: 0.8609\n",
            "Epoch 5/5\n",
            "54/54 [==============================] - 0s 2ms/step - loss: 0.6172 - accuracy: 0.8830\n",
            "27/27 [==============================] - 0s 1ms/step - loss: 0.9312 - accuracy: 0.8237\n",
            "Epoch 1/5\n",
            "54/54 [==============================] - 1s 2ms/step - loss: 2.7830 - accuracy: 0.5178\n",
            "Epoch 2/5\n",
            "54/54 [==============================] - 0s 2ms/step - loss: 0.8670 - accuracy: 0.6781\n",
            "Epoch 3/5\n",
            "54/54 [==============================] - 0s 2ms/step - loss: 0.5428 - accuracy: 0.8063\n",
            "Epoch 4/5\n",
            "54/54 [==============================] - 0s 2ms/step - loss: 0.4478 - accuracy: 0.8516\n",
            "Epoch 5/5\n",
            "54/54 [==============================] - 0s 2ms/step - loss: 0.4062 - accuracy: 0.8710\n",
            "27/27 [==============================] - 0s 1ms/step - loss: 0.6752 - accuracy: 0.8365\n",
            "Epoch 1/5\n",
            "54/54 [==============================] - 1s 1ms/step - loss: 2.3423 - accuracy: 0.5620\n",
            "Epoch 2/5\n",
            "54/54 [==============================] - 0s 1ms/step - loss: 1.1930 - accuracy: 0.6918\n",
            "Epoch 3/5\n",
            "54/54 [==============================] - 0s 2ms/step - loss: 0.8063 - accuracy: 0.7530\n",
            "Epoch 4/5\n",
            "54/54 [==============================] - 0s 2ms/step - loss: 0.7532 - accuracy: 0.7779\n",
            "Epoch 5/5\n",
            "54/54 [==============================] - 0s 2ms/step - loss: 0.6189 - accuracy: 0.8319\n",
            "27/27 [==============================] - 0s 1ms/step - loss: 0.8345 - accuracy: 0.7945\n",
            "Epoch 1/5\n",
            "54/54 [==============================] - 1s 1ms/step - loss: 2.0006 - accuracy: 0.5822\n",
            "Epoch 2/5\n",
            "54/54 [==============================] - 0s 1ms/step - loss: 0.7923 - accuracy: 0.7269\n",
            "Epoch 3/5\n",
            "54/54 [==============================] - 0s 2ms/step - loss: 0.5706 - accuracy: 0.8020\n",
            "Epoch 4/5\n",
            "54/54 [==============================] - 0s 2ms/step - loss: 0.4938 - accuracy: 0.8507\n",
            "Epoch 5/5\n",
            "54/54 [==============================] - 0s 2ms/step - loss: 0.4337 - accuracy: 0.8696\n",
            "27/27 [==============================] - 0s 1ms/step - loss: 0.7814 - accuracy: 0.8226\n",
            "Epoch 1/10\n",
            "54/54 [==============================] - 1s 1ms/step - loss: 2.9773 - accuracy: 0.5914\n",
            "Epoch 2/10\n",
            "54/54 [==============================] - 0s 2ms/step - loss: 1.0467 - accuracy: 0.7647\n",
            "Epoch 3/10\n",
            "54/54 [==============================] - 0s 2ms/step - loss: 0.6985 - accuracy: 0.8155\n",
            "Epoch 4/10\n",
            "54/54 [==============================] - 0s 2ms/step - loss: 0.5942 - accuracy: 0.8513\n",
            "Epoch 5/10\n",
            "54/54 [==============================] - 0s 2ms/step - loss: 0.6346 - accuracy: 0.8622\n",
            "Epoch 6/10\n",
            "54/54 [==============================] - 0s 2ms/step - loss: 0.4979 - accuracy: 0.8915\n",
            "Epoch 7/10\n",
            "54/54 [==============================] - 0s 2ms/step - loss: 0.4664 - accuracy: 0.9062\n",
            "Epoch 8/10\n",
            "54/54 [==============================] - 0s 2ms/step - loss: 0.4445 - accuracy: 0.9138\n",
            "Epoch 9/10\n",
            "54/54 [==============================] - 0s 2ms/step - loss: 0.4791 - accuracy: 0.9142\n",
            "Epoch 10/10\n",
            "54/54 [==============================] - 0s 2ms/step - loss: 0.4269 - accuracy: 0.9200\n",
            "27/27 [==============================] - 0s 1ms/step - loss: 0.9817 - accuracy: 0.8549\n",
            "Epoch 1/10\n",
            "54/54 [==============================] - 1s 1ms/step - loss: 4.2745 - accuracy: 0.5135\n",
            "Epoch 2/10\n",
            "54/54 [==============================] - 0s 2ms/step - loss: 2.0298 - accuracy: 0.6471\n",
            "Epoch 3/10\n",
            "54/54 [==============================] - 0s 2ms/step - loss: 1.2645 - accuracy: 0.7313\n",
            "Epoch 4/10\n",
            "54/54 [==============================] - 0s 2ms/step - loss: 0.8504 - accuracy: 0.7973\n",
            "Epoch 5/10\n",
            "54/54 [==============================] - 0s 2ms/step - loss: 0.6473 - accuracy: 0.8409\n",
            "Epoch 6/10\n",
            "54/54 [==============================] - 0s 2ms/step - loss: 0.5096 - accuracy: 0.8781\n",
            "Epoch 7/10\n",
            "54/54 [==============================] - 0s 2ms/step - loss: 0.5075 - accuracy: 0.8828\n",
            "Epoch 8/10\n",
            "54/54 [==============================] - 0s 1ms/step - loss: 0.4657 - accuracy: 0.8944\n",
            "Epoch 9/10\n",
            "54/54 [==============================] - 0s 2ms/step - loss: 0.4289 - accuracy: 0.9089\n",
            "Epoch 10/10\n",
            "54/54 [==============================] - 0s 2ms/step - loss: 0.3985 - accuracy: 0.9230\n",
            "27/27 [==============================] - 0s 1ms/step - loss: 1.0950 - accuracy: 0.8286\n",
            "Epoch 1/10\n",
            "54/54 [==============================] - 1s 2ms/step - loss: 2.4898 - accuracy: 0.5567\n",
            "Epoch 2/10\n",
            "54/54 [==============================] - 0s 2ms/step - loss: 0.9893 - accuracy: 0.7062\n",
            "Epoch 3/10\n",
            "54/54 [==============================] - 0s 2ms/step - loss: 0.7119 - accuracy: 0.7986\n",
            "Epoch 4/10\n",
            "54/54 [==============================] - 0s 2ms/step - loss: 0.5630 - accuracy: 0.8522\n",
            "Epoch 5/10\n",
            "54/54 [==============================] - 0s 2ms/step - loss: 0.4777 - accuracy: 0.8912\n",
            "Epoch 6/10\n",
            "54/54 [==============================] - 0s 2ms/step - loss: 0.4455 - accuracy: 0.9027\n",
            "Epoch 7/10\n",
            "54/54 [==============================] - 0s 2ms/step - loss: 0.4089 - accuracy: 0.9158\n",
            "Epoch 8/10\n",
            "54/54 [==============================] - 0s 2ms/step - loss: 0.4270 - accuracy: 0.9194\n",
            "Epoch 9/10\n",
            "54/54 [==============================] - 0s 2ms/step - loss: 0.3590 - accuracy: 0.9358\n",
            "Epoch 10/10\n",
            "54/54 [==============================] - 0s 2ms/step - loss: 0.4062 - accuracy: 0.9425\n",
            "27/27 [==============================] - 0s 1ms/step - loss: 1.2536 - accuracy: 0.8410\n",
            "Epoch 1/10\n",
            "54/54 [==============================] - 1s 2ms/step - loss: 2.4883 - accuracy: 0.5802\n",
            "Epoch 2/10\n",
            "54/54 [==============================] - 0s 2ms/step - loss: 1.0058 - accuracy: 0.7076\n",
            "Epoch 3/10\n",
            "54/54 [==============================] - 0s 2ms/step - loss: 0.7309 - accuracy: 0.7899\n",
            "Epoch 4/10\n",
            "54/54 [==============================] - 0s 2ms/step - loss: 0.5626 - accuracy: 0.8490\n",
            "Epoch 5/10\n",
            "54/54 [==============================] - 0s 2ms/step - loss: 0.4748 - accuracy: 0.8662\n",
            "Epoch 6/10\n",
            "54/54 [==============================] - 0s 2ms/step - loss: 0.4875 - accuracy: 0.8884\n",
            "Epoch 7/10\n",
            "54/54 [==============================] - 0s 2ms/step - loss: 0.4355 - accuracy: 0.9016\n",
            "Epoch 8/10\n",
            "54/54 [==============================] - 0s 2ms/step - loss: 0.4222 - accuracy: 0.9155\n",
            "Epoch 9/10\n",
            "54/54 [==============================] - 0s 2ms/step - loss: 0.4232 - accuracy: 0.9258\n",
            "Epoch 10/10\n",
            "54/54 [==============================] - 0s 2ms/step - loss: 0.3717 - accuracy: 0.9368\n",
            "27/27 [==============================] - 0s 1ms/step - loss: 0.9901 - accuracy: 0.8429\n",
            "Epoch 1/10\n",
            "54/54 [==============================] - 1s 2ms/step - loss: 1.8682 - accuracy: 0.5959\n",
            "Epoch 2/10\n",
            "54/54 [==============================] - 0s 2ms/step - loss: 0.6946 - accuracy: 0.7600\n",
            "Epoch 3/10\n",
            "54/54 [==============================] - 0s 2ms/step - loss: 0.5077 - accuracy: 0.8564\n",
            "Epoch 4/10\n",
            "54/54 [==============================] - 0s 2ms/step - loss: 0.4572 - accuracy: 0.8730\n",
            "Epoch 5/10\n",
            "54/54 [==============================] - 0s 2ms/step - loss: 0.4572 - accuracy: 0.8845\n",
            "Epoch 6/10\n",
            "54/54 [==============================] - 0s 2ms/step - loss: 0.3934 - accuracy: 0.9008\n",
            "Epoch 7/10\n",
            "54/54 [==============================] - 0s 2ms/step - loss: 0.3805 - accuracy: 0.9163\n",
            "Epoch 8/10\n",
            "54/54 [==============================] - 0s 2ms/step - loss: 0.3702 - accuracy: 0.9296\n",
            "Epoch 9/10\n",
            "54/54 [==============================] - 0s 2ms/step - loss: 0.3589 - accuracy: 0.9384\n",
            "Epoch 10/10\n",
            "54/54 [==============================] - 0s 3ms/step - loss: 0.3676 - accuracy: 0.9431\n",
            "27/27 [==============================] - 0s 1ms/step - loss: 1.2587 - accuracy: 0.8294\n",
            "Epoch 1/10\n",
            "54/54 [==============================] - 1s 2ms/step - loss: 1.7685 - accuracy: 0.6130\n",
            "Epoch 2/10\n",
            "54/54 [==============================] - 0s 2ms/step - loss: 0.8578 - accuracy: 0.7422\n",
            "Epoch 3/10\n",
            "54/54 [==============================] - 0s 2ms/step - loss: 0.7173 - accuracy: 0.7708\n",
            "Epoch 4/10\n",
            "54/54 [==============================] - 0s 2ms/step - loss: 0.5419 - accuracy: 0.8428\n",
            "Epoch 5/10\n",
            "54/54 [==============================] - 0s 2ms/step - loss: 0.5396 - accuracy: 0.8750\n",
            "Epoch 6/10\n",
            "54/54 [==============================] - 0s 2ms/step - loss: 0.4548 - accuracy: 0.8986\n",
            "Epoch 7/10\n",
            "54/54 [==============================] - 0s 2ms/step - loss: 0.4242 - accuracy: 0.9172\n",
            "Epoch 8/10\n",
            "54/54 [==============================] - 0s 2ms/step - loss: 0.4039 - accuracy: 0.9232\n",
            "Epoch 9/10\n",
            "54/54 [==============================] - 0s 2ms/step - loss: 0.4184 - accuracy: 0.9327\n",
            "Epoch 10/10\n",
            "54/54 [==============================] - 0s 1ms/step - loss: 0.3667 - accuracy: 0.9446\n",
            "27/27 [==============================] - 0s 1ms/step - loss: 1.2531 - accuracy: 0.8331\n",
            "Epoch 1/5\n",
            "1600/1600 [==============================] - 3s 1ms/step - loss: 2.0295 - accuracy: 0.7505\n",
            "Epoch 2/5\n",
            "1600/1600 [==============================] - 2s 1ms/step - loss: 1.3231 - accuracy: 0.8770\n",
            "Epoch 3/5\n",
            "1600/1600 [==============================] - 2s 1ms/step - loss: 1.4292 - accuracy: 0.8857\n",
            "Epoch 4/5\n",
            "1600/1600 [==============================] - 2s 1ms/step - loss: 1.4215 - accuracy: 0.8876\n",
            "Epoch 5/5\n",
            "1600/1600 [==============================] - 2s 1ms/step - loss: 1.2003 - accuracy: 0.9039\n"
          ],
          "name": "stdout"
        },
        {
          "output_type": "execute_result",
          "data": {
            "text/plain": [
              "RandomizedSearchCV(cv=3, error_score=nan,\n",
              "                   estimator=<tensorflow.python.keras.wrappers.scikit_learn.KerasClassifier object at 0x7f772a439e50>,\n",
              "                   iid='deprecated', n_iter=70, n_jobs=None,\n",
              "                   param_distributions={'batch_size': [5, 10, 100],\n",
              "                                        'epochs': [5, 10],\n",
              "                                        'optimizer': ['RMSprop', 'Adam']},\n",
              "                   pre_dispatch='2*n_jobs', random_state=None, refit=True,\n",
              "                   return_train_score=False, scoring=None, verbose=0)"
            ]
          },
          "metadata": {
            "tags": []
          },
          "execution_count": 9
        }
      ]
    },
    {
      "cell_type": "code",
      "metadata": {
        "colab": {
          "base_uri": "https://localhost:8080/"
        },
        "id": "_4oKE3uvur-5",
        "outputId": "feb00fb0-1506-430e-fe62-83ca9a318b50"
      },
      "source": [
        "rnd_search_cv.best_params_"
      ],
      "execution_count": 10,
      "outputs": [
        {
          "output_type": "execute_result",
          "data": {
            "text/plain": [
              "{'batch_size': 5, 'epochs': 5, 'optimizer': 'Adam'}"
            ]
          },
          "metadata": {
            "tags": []
          },
          "execution_count": 10
        }
      ]
    }
  ]
}